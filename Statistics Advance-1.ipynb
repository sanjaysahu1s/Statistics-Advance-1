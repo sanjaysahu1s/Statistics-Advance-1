{
 "cells": [
  {
   "cell_type": "markdown",
   "id": "847adbb7-db76-4977-981e-bb4bb638709c",
   "metadata": {},
   "source": [
    "Q1. What is the Probability density function?"
   ]
  },
  {
   "cell_type": "markdown",
   "id": "955b4e81-c099-4b59-b2f4-acda08a0d7ae",
   "metadata": {},
   "source": [
    "#Answer\n",
    "\n",
    "The Probability Density Function (PDF) is a concept in probability theory and statistics. It is a function that describes the likelihood of a random variable taking on a specific value or falling within a particular range. In other words, it represents the probability distribution of a continuous random variable.\n",
    "\n",
    "The PDF is denoted as f(x), where 'x' represents the random variable. It is defined such that the probability of the random variable falling within a given interval [a, b] can be calculated by integrating the PDF over that interval. Mathematically, it can be expressed as:\n",
    "\n",
    "P(a ≤ X ≤ b) = ∫[a to b] f(x) dx\n",
    "\n",
    "The PDF satisfies the following properties:\n",
    "\n",
    "1. Non-negativity: The PDF is always non-negative, i.e., f(x) ≥ 0 for all x.\n",
    "\n",
    "2. Total area under the curve: The total area under the curve of the PDF over the entire range of the random variable is equal to 1. This means that the sum of all probabilities for all possible values of the random variable is equal to 1.\n",
    "\n",
    "3. Probability interpretation: The value of the PDF at a specific point represents the probability density at that point. However, the PDF itself does not give the probability of a specific value but rather the relative likelihood of the random variable being in a particular range.\n",
    "\n",
    "The PDF is a fundamental concept in statistics and is used in various applications, such as hypothesis testing, estimation, and modeling of random phenomena. It allows us to understand the distribution of data and make inferences about the underlying population."
   ]
  },
  {
   "cell_type": "markdown",
   "id": "d768ab2e-88b4-43b3-a1dd-6c72edbb4923",
   "metadata": {},
   "source": [
    "                      -------------------------------------------------------------------"
   ]
  },
  {
   "cell_type": "markdown",
   "id": "491180f2-5135-481c-9aa5-c7f7f6e92a5f",
   "metadata": {},
   "source": [
    "Q2. What are the types of Probability distribution?"
   ]
  },
  {
   "cell_type": "markdown",
   "id": "20a80b1d-c1c3-4b61-981e-4aa77020fc96",
   "metadata": {},
   "source": [
    "#Answer\n",
    "\n",
    "There are several types of probability distributions, each with its own characteristics and applications. Here are some of the most commonly encountered types:\n",
    "\n",
    "1. Uniform Distribution: In a uniform distribution, every outcome in the sample space has an equal probability. The PDF of a uniform distribution is a constant over a specified interval. Examples include rolling a fair die or selecting a random number from a given range.\n",
    "\n",
    "2. Normal Distribution: The normal distribution, also known as the Gaussian distribution, is one of the most important and widely used probability distributions. It is characterized by a symmetric bell-shaped curve. Many natural phenomena, such as heights and weights of individuals in a population, can be approximated by a normal distribution. The parameters of a normal distribution are the mean (μ) and the standard deviation (σ).\n",
    "\n",
    "3. Binomial Distribution: The binomial distribution describes the number of successes in a fixed number of independent Bernoulli trials, where each trial has two possible outcomes (success or failure) with the same probability of success (p). It is characterized by two parameters: the number of trials (n) and the probability of success (p). It is often used to model situations such as coin flips or the success rate of a manufacturing process.\n",
    "\n",
    "4. Poisson Distribution: The Poisson distribution models the number of events that occur in a fixed interval of time or space. It is commonly used to model rare events, such as the number of customer arrivals in a given time period or the number of phone calls received at a call center in a specific hour. The parameter of a Poisson distribution is the average rate of occurrence (λ) of events.\n",
    "\n",
    "5. Exponential Distribution: The exponential distribution models the time between events in a Poisson process, where events occur continuously and independently at a constant average rate. It is often used to model the lifespan of certain devices or the time between occurrences of rare events. The parameter of an exponential distribution is the rate parameter (λ), which represents the average rate of events per unit of time.\n",
    "\n",
    "6. Chi-Square Distribution: The chi-square distribution arises in statistical inference and hypothesis testing, particularly when working with sample variances. It is often used in goodness-of-fit tests and for constructing confidence intervals for the variance of a normally distributed population.\n",
    "\n",
    "These are just a few examples of probability distributions, and there are many others, such as the exponential, gamma, beta, and t-distributions. The choice of distribution depends on the nature of the data and the problem at hand."
   ]
  },
  {
   "cell_type": "markdown",
   "id": "61e7fe27-1fe2-442b-9990-ddf2b4958328",
   "metadata": {},
   "source": [
    "                      -------------------------------------------------------------------"
   ]
  },
  {
   "cell_type": "markdown",
   "id": "ee58e8fc-6392-4da0-a0c9-2443f93e661c",
   "metadata": {},
   "source": [
    "Q3. Write a Python function to calculate the probability density function of a normal distribution with\n",
    "given mean and standard deviation at a given point."
   ]
  },
  {
   "cell_type": "code",
   "execution_count": 3,
   "id": "c4a31648-0450-4cfb-939c-2fdc5b78a13c",
   "metadata": {},
   "outputs": [
    {
     "name": "stdout",
     "output_type": "stream",
     "text": [
      "PDF at x = 1.5 is 0.12951759566589174\n"
     ]
    }
   ],
   "source": [
    "#Answer\n",
    "\n",
    "import math\n",
    "\n",
    "def normal_pdf(x, mean, std_dev):\n",
    "    \"\"\"\n",
    "    Calculate the probability density function (PDF) of a normal distribution\n",
    "    at a given point 'x', given the mean and standard deviation.\n",
    "    \"\"\"\n",
    "    coefficient = 1 / (std_dev * math.sqrt(2 * math.pi))\n",
    "    exponent = -((x - mean) ** 2) / (2 * std_dev ** 2)\n",
    "    pdf = coefficient * math.exp(exponent)\n",
    "    return pdf\n",
    "\n",
    "\n",
    "mean = 0\n",
    "std_dev = 1\n",
    "x = 1.5\n",
    "\n",
    "pdf_value = normal_pdf(x, mean, std_dev)\n",
    "print(\"PDF at x =\", x, \"is\", pdf_value)\n"
   ]
  },
  {
   "cell_type": "markdown",
   "id": "ab68aa9b-06e7-48ba-9454-ab662e3c7fc2",
   "metadata": {},
   "source": [
    "                      -------------------------------------------------------------------"
   ]
  },
  {
   "cell_type": "markdown",
   "id": "603d8454-0f91-4c58-9047-9330eaa2c9b0",
   "metadata": {},
   "source": [
    "Q4. What are the properties of Binomial distribution? Give two examples of events where binomial\n",
    "distribution can be applied."
   ]
  },
  {
   "cell_type": "markdown",
   "id": "00b0141b-3ee5-4f53-8833-7e38df4ed301",
   "metadata": {},
   "source": [
    "#Answer\n",
    "\n",
    "The properties of the binomial distribution include:\n",
    "\n",
    "1. Fixed number of trials: The binomial distribution models a fixed number of independent trials, denoted as 'n'. Each trial has two possible outcomes: success or failure.\n",
    "\n",
    "2. Independent trials: The outcomes of each trial are assumed to be independent of each other. The outcome of one trial does not affect the outcomes of other trials.\n",
    "\n",
    "3. Constant probability of success: The probability of success, denoted as 'p', remains the same for each trial. Similarly, the probability of failure, denoted as 'q', is equal to 1 - p.\n",
    "\n",
    "4. Discrete outcomes: The binomial distribution deals with discrete outcomes, where the random variable represents the count of successes in 'n' trials.\n",
    "\n",
    "5. Fixed number of successes: The binomial distribution is concerned with the probability of obtaining a specific number of successes, ranging from 0 to 'n', in 'n' trials.\n",
    "\n",
    "Examples of events where the binomial distribution can be applied:\n",
    "\n",
    "1. Coin Flips: When flipping a fair coin, each flip has two possible outcomes: heads (success) or tails (failure). If you conduct a fixed number of independent coin flips, the binomial distribution can be used to calculate the probability of obtaining a specific number of heads in those flips.\n",
    "\n",
    "2. Quality Control: Consider a manufacturing process where items are produced and inspected. Each item can be classified as either defective (failure) or non-defective (success). By conducting a fixed number of independent inspections, the binomial distribution can be used to determine the probability of obtaining a certain number of defective items in the sample.\n",
    "\n",
    "These are just two examples, but the binomial distribution can be applied in various scenarios involving a fixed number of trials with two possible outcomes, where the probability of success remains constant."
   ]
  },
  {
   "cell_type": "markdown",
   "id": "cefbaf43-6ff9-49ad-b189-2a56c6f188e8",
   "metadata": {},
   "source": [
    "                      -------------------------------------------------------------------"
   ]
  },
  {
   "cell_type": "markdown",
   "id": "d83dbde1-120b-428e-9820-73b17987c381",
   "metadata": {},
   "source": [
    "Q5. Generate a random sample of size 1000 from a binomial distribution with probability of success 0.4\n",
    "and plot a histogram of the results using matplotlib."
   ]
  },
  {
   "cell_type": "code",
   "execution_count": 4,
   "id": "c67726a7-8ae8-46db-b04c-93fda859241d",
   "metadata": {},
   "outputs": [
    {
     "data": {
      "image/png": "[encoded data removed]",
      "text/plain": [
       "<Figure size 640x480 with 1 Axes>"
      ]
     },
     "metadata": {},
     "output_type": "display_data"
    }
   ],
   "source": [
    "#Answer\n",
    "\n",
    "import numpy as np\n",
    "import matplotlib.pyplot as plt\n",
    "\n",
    "# Set the parameters\n",
    "n = 1000  # Number of trials\n",
    "p = 0.4  # Probability of success\n",
    "\n",
    "# Generate the random sample\n",
    "sample = np.random.binomial(n, p, size=1000)\n",
    "\n",
    "# Plot the histogram\n",
    "plt.hist(sample, bins=20, edgecolor='black')\n",
    "plt.xlabel('Number of Successes')\n",
    "plt.ylabel('Frequency')\n",
    "plt.title('Histogram of Binomial Distribution')\n",
    "plt.grid(True)\n",
    "plt.show()\n"
   ]
  },
  {
   "cell_type": "markdown",
   "id": "4bd56842-96dd-463e-9a53-abe5f7acc2c6",
   "metadata": {},
   "source": [
    "                       -------------------------------------------------------------------"
   ]
  },
  {
   "cell_type": "markdown",
   "id": "e5cfcd8a-e250-42a7-8424-c3a5f8fe7a69",
   "metadata": {},
   "source": [
    "Q6. Write a Python function to calculate the cumulative distribution function of a Poisson distribution\n",
    "with given mean at a given point."
   ]
  },
  {
   "cell_type": "code",
   "execution_count": 6,
   "id": "e56c2925-c023-4f09-be5d-2b3737280d6d",
   "metadata": {},
   "outputs": [
    {
     "name": "stdout",
     "output_type": "stream",
     "text": [
      "CDF at k = 4 is 0.8911780189141512\n"
     ]
    }
   ],
   "source": [
    "#Answer\n",
    "\n",
    "import math\n",
    "\n",
    "def poisson_cdf(k, mean):\n",
    "    \"\"\"\n",
    "    Calculate the cumulative distribution function (CDF) of a Poisson distribution\n",
    "    at a given point 'k', given the mean.\n",
    "    \"\"\"\n",
    "    cdf = 0.0\n",
    "    for i in range(k + 1):\n",
    "        cdf += (math.exp(-mean) * mean ** i) / math.factorial(i)\n",
    "    return cdf\n",
    "\n",
    "\n",
    "\n",
    "mean = 2.5\n",
    "k = 4\n",
    "\n",
    "cdf_value = poisson_cdf(k, mean)\n",
    "print(\"CDF at k =\", k, \"is\", cdf_value)\n"
   ]
  },
  {
   "cell_type": "markdown",
   "id": "c195c9bd-aba6-49ad-a195-6b541eb54fb2",
   "metadata": {},
   "source": [
    "                        -------------------------------------------------------------------"
   ]
  },
  {
   "cell_type": "markdown",
   "id": "d63d16dc-f478-47f2-acca-b813400fc9b0",
   "metadata": {},
   "source": [
    "Q7. How Binomial distribution different from Poisson distribution?"
   ]
  },
  {
   "cell_type": "markdown",
   "id": "d3f83fbb-39dd-4f71-b9ea-6b6639eb6298",
   "metadata": {},
   "source": [
    "#Answer\n",
    "\n",
    "The binomial distribution and the Poisson distribution are both probability distributions, but they differ in their underlying assumptions and the types of events they model. Here are the key differences between the two:\n",
    "\n",
    "1. Nature of Events:\n",
    "   - Binomial Distribution: The binomial distribution models a fixed number of independent trials, where each trial has two possible outcomes (success or failure). The probability of success remains constant across all trials, and the trials are mutually exclusive.\n",
    "   - Poisson Distribution: The Poisson distribution models the number of events that occur in a fixed interval of time or space. It is used for events that occur randomly and independently, with an average rate of occurrence. The events are not limited to two outcomes.\n",
    "\n",
    "2. Number of Trials/Events:\n",
    "   - Binomial Distribution: The binomial distribution deals with a fixed number of trials or events (denoted as 'n'). The distribution describes the probability of obtaining a specific number of successes in these fixed trials.\n",
    "   - Poisson Distribution: The Poisson distribution does not involve a fixed number of trials or events. Instead, it focuses on the number of events occurring in a fixed interval, such as the number of calls received at a call center in an hour.\n",
    "\n",
    "3. Probability of Success:\n",
    "   - Binomial Distribution: In the binomial distribution, the probability of success ('p') remains constant for each trial. The probability of failure is complementary, i.e., 1 - p.\n",
    "   - Poisson Distribution: The Poisson distribution does not have a fixed probability of success. Instead, it is determined by the average rate of occurrence (often denoted as 'λ'). The parameter λ represents the expected number of events in the given interval.\n",
    "\n",
    "4. Shape of the Distribution:\n",
    "   - Binomial Distribution: The binomial distribution can take on a variety of shapes, depending on the values of 'n' and 'p'. As the number of trials increases, and 'p' approaches 0.5, the binomial distribution approaches a symmetric shape resembling a normal distribution.\n",
    "   - Poisson Distribution: The Poisson distribution is often skewed and right-tailed. It has a peak around the average rate of occurrence (λ), and its shape becomes more symmetric as the rate increases.\n",
    "\n",
    "In summary, the binomial distribution is concerned with a fixed number of independent trials, while the Poisson distribution models the number of events occurring in a fixed interval. The binomial distribution deals with two possible outcomes and a fixed probability of success, while the Poisson distribution focuses on the rate of occurrence of events."
   ]
  },
  {
   "cell_type": "markdown",
   "id": "4be73e72-3394-40ce-b63b-a19ab1b11dea",
   "metadata": {},
   "source": [
    "                        -------------------------------------------------------------------"
   ]
  },
  {
   "cell_type": "markdown",
   "id": "096660b2-7cef-4f6f-a736-585263067011",
   "metadata": {},
   "source": [
    "Q8. Generate a random sample of size 1000 from a Poisson distribution with mean 5 and calculate the\n",
    "sample mean and variance."
   ]
  },
  {
   "cell_type": "code",
   "execution_count": 7,
   "id": "8611a812-7dfb-493e-a69e-f690b2fcc1dc",
   "metadata": {},
   "outputs": [
    {
     "name": "stdout",
     "output_type": "stream",
     "text": [
      "Sample Mean: 4.981\n",
      "Sample Variance: 4.7826390000000005\n"
     ]
    }
   ],
   "source": [
    "#Answer\n",
    "\n",
    "import numpy as np\n",
    "\n",
    "# Set the parameters\n",
    "mean = 5\n",
    "sample_size = 1000\n",
    "\n",
    "# Generate the random sample\n",
    "sample = np.random.poisson(mean, size=sample_size)\n",
    "\n",
    "# Calculate the sample mean and variance\n",
    "sample_mean = np.mean(sample)\n",
    "sample_variance = np.var(sample)\n",
    "\n",
    "print(\"Sample Mean:\", sample_mean)\n",
    "print(\"Sample Variance:\", sample_variance)\n"
   ]
  },
  {
   "cell_type": "markdown",
   "id": "3989ea0f-b8d0-447d-b62c-f25060c41593",
   "metadata": {},
   "source": [
    "                        -------------------------------------------------------------------"
   ]
  },
  {
   "cell_type": "markdown",
   "id": "130484c5-a42d-408b-9274-911d43753b01",
   "metadata": {},
   "source": [
    "Q9. How mean and variance are related in Binomial distribution and Poisson distribution?"
   ]
  },
  {
   "cell_type": "markdown",
   "id": "00a99d00-f2f2-48c7-ad96-02855c5560a2",
   "metadata": {},
   "source": [
    "#Answer\n",
    "\n",
    "In both the binomial distribution and the Poisson distribution, the mean and variance are related, but the nature of their relationship differs.\n",
    "\n",
    "For the Binomial Distribution:\n",
    "- Mean: In a binomial distribution, the mean (μ) is equal to the product of the number of trials (n) and the probability of success (p), i.e., μ = n * p.\n",
    "- Variance: The variance (σ^2) of a binomial distribution is given by the product of the number of trials (n), the probability of success (p), and the probability of failure (q = 1 - p), i.e., σ^2 = n * p * q. It can also be expressed as σ^2 = n * p * (1 - p).\n",
    "\n",
    "The relationship between the mean and variance in a binomial distribution is direct. As the number of trials or the probability of success increases, both the mean and variance increase. However, the variance can be influenced by the spread or variability of the data.\n",
    "\n",
    "For the Poisson Distribution:\n",
    "- Mean: In a Poisson distribution, the mean (μ) and the variance (σ^2) are equal, and both are represented by the parameter λ. Hence, μ = σ^2 = λ.\n",
    "- Variance: The variance of a Poisson distribution is equal to its mean, i.e., σ^2 = μ = λ.\n",
    "\n",
    "In the Poisson distribution, the mean and variance are always equal because the Poisson distribution is defined by its average rate of occurrence (λ), which also determines the spread of the distribution. As λ increases, both the mean and variance increase proportionally.\n",
    "\n",
    "In summary, for the binomial distribution, the variance depends on both the number of trials and the probability of success. In the Poisson distribution, the variance is solely determined by the mean (λ), and the mean and variance are always equal in value."
   ]
  },
  {
   "cell_type": "markdown",
   "id": "8a415cf7-d709-4370-8375-d5ad5cbe5c57",
   "metadata": {},
   "source": [
    "                        -------------------------------------------------------------------"
   ]
  },
  {
   "cell_type": "markdown",
   "id": "d1757885-94a7-45d3-8433-70806f71c8ff",
   "metadata": {},
   "source": [
    "Q10. In normal distribution with respect to mean position, where does the least frequent data appear?"
   ]
  },
  {
   "cell_type": "markdown",
   "id": "8fe81146-acd5-41c0-98c6-7a46c974ae39",
   "metadata": {},
   "source": [
    "#Answer\n",
    "\n",
    "In a normal distribution, also known as a Gaussian distribution, the least frequent data appears in the tails of the distribution, away from the mean. The normal distribution is symmetric, so the least frequent data occurs at the extreme ends of the distribution, both on the left and right sides.\n",
    "\n",
    "In a standard normal distribution (mean = 0 and standard deviation = 1), the data becomes less frequent as it moves further away from the mean. The probability density function (PDF) of a normal distribution decreases as you move away from the mean in either direction.\n",
    "\n",
    "Specifically, in a normal distribution:\n",
    "- The data near the mean is the most frequent, and the PDF is highest at the mean.\n",
    "- As you move away from the mean in either direction, the frequency of the data decreases, and the PDF decreases accordingly.\n",
    "- The data in the tails of the distribution, which are the extreme values far from the mean, occur with the least frequency.\n",
    "\n",
    "This pattern follows the \"bell-shaped\" curve of the normal distribution, where the majority of the data is concentrated near the mean and gradually decreases towards the tails. The tails of the normal distribution represent the less likely and extreme values."
   ]
  },
  {
   "cell_type": "markdown",
   "id": "bf43c3de-b3b8-43ba-bbab-5cb5b18809c8",
   "metadata": {},
   "source": [
    "                        -------------------------------------------------------------------"
   ]
  }
 ],
 "metadata": {
  "kernelspec": {
   "display_name": "Python 3 (ipykernel)",
   "language": "python",
   "name": "python3"
  },
  "language_info": {
   "codemirror_mode": {
    "name": "ipython",
    "version": 3
   },
   "file_extension": ".py",
   "mimetype": "text/x-python",
   "name": "python",
   "nbconvert_exporter": "python",
   "pygments_lexer": "ipython3",
   "version": "3.10.8"
  }
 },
 "nbformat": 4,
 "nbformat_minor": 5
}
